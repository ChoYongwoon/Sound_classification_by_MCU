{
 "cells": [
  {
   "cell_type": "code",
   "execution_count": null,
   "id": "c75edaa0",
   "metadata": {},
   "outputs": [],
   "source": [
    "import os\n",
    "import glob\n",
    "import librosa\n",
    "import numpy as np\n",
    "import pandas as pd\n",
    "import pickle\n",
    "import tensorflow as tf\n",
    "from librosa import display\n",
    "import matplotlib.pyplot as plt\n",
    "from tensorflow import keras"
   ]
  },
  {
   "cell_type": "code",
   "execution_count": null,
   "id": "4555da8f",
   "metadata": {},
   "outputs": [],
   "source": [
    "def data_filtering(file_name):\n",
    "    print('file name: ', file_name)\n",
    "    try:\n",
    "        audio, sample_rate = librosa.load(file_name, res_type = 'kaiser_best')\n",
    "        mcu_sr = 256\n",
    "        audio_mcu = librosa.resample(audio, sample_rate, mcu_sr, res_type = 'kaiser_best')\n",
    "        audio_mcu = audio_mcu[128:128+mcu_sr]\n",
    "        if len(audio_mcu) != mcu_sr:\n",
    "            return None\n",
    "        fft = np.fft.fft(audio_mcu)\n",
    "        spectrum = np.abs(fft)\n",
    "        final = spectrum[:int(len(spectrum)/2)]\n",
    "        print(final.shape)\n",
    "    except Exception as e:\n",
    "        print(\"Error encountered while parsing file: \", file_name)\n",
    "        print(e);\n",
    "        return None\n",
    "    return final"
   ]
  },
  {
   "cell_type": "code",
   "execution_count": null,
   "id": "d9234709",
   "metadata": {
    "scrolled": true
   },
   "outputs": [],
   "source": [
    "fulldatasetpath = './audio/'\n",
    "metadata = pd.read_csv('./metadata/UrbanSound8K.csv')\n",
    "features = []\n",
    "\n",
    "# Iterate through each sound file and extract the features \n",
    "for index, row in metadata.iterrows():\n",
    "    file_name = os.path.join(os.path.abspath(fulldatasetpath),'fold'+str(row[\"fold\"])+'/',str(row[\"slice_file_name\"]))\n",
    "    class_label = row[\"classID\"]\n",
    "    data = data_filtering(file_name)\n",
    "    \n",
    "    features.append([data, class_label])\n",
    "\n",
    "# Convert into a Panda dataframe \n",
    "featuresdf = pd.DataFrame(features, columns=['feature','class_label'])"
   ]
  },
  {
   "cell_type": "code",
   "execution_count": null,
   "id": "18ef2829",
   "metadata": {},
   "outputs": [],
   "source": [
    "copy = featuresdf.dropna(axis = 0)"
   ]
  },
  {
   "cell_type": "code",
   "execution_count": null,
   "id": "a616927f",
   "metadata": {},
   "outputs": [],
   "source": [
    "# 피클로 데이터 저장\n",
    "copy.to_pickle(\"./data/data_final.pkl\")"
   ]
  },
  {
   "cell_type": "code",
   "execution_count": null,
   "id": "bafab643",
   "metadata": {},
   "outputs": [],
   "source": [
    "data_filtered = pd.read_pickle(\"./data/data_final.pkl\")"
   ]
  },
  {
   "cell_type": "code",
   "execution_count": null,
   "id": "e6586ac8",
   "metadata": {},
   "outputs": [],
   "source": [
    "from tensorflow.keras.utils import to_categorical\n",
    "from sklearn.preprocessing import LabelEncoder\n",
    "from sklearn.model_selection import train_test_split"
   ]
  },
  {
   "cell_type": "code",
   "execution_count": null,
   "id": "fe68a56c",
   "metadata": {},
   "outputs": [],
   "source": [
    "X = np.array(data_filtered.feature.tolist())\n",
    "y = np.array(data_filtered.class_label.tolist())\n",
    "\n",
    "le = LabelEncoder()\n",
    "yy = to_categorical(le.fit_transform(y))"
   ]
  },
  {
   "cell_type": "code",
   "execution_count": null,
   "id": "0cae3859",
   "metadata": {},
   "outputs": [],
   "source": [
    "X = np.array(X, dtype = float)\n",
    "yy = np.array(yy, dtype = float)"
   ]
  },
  {
   "cell_type": "code",
   "execution_count": null,
   "id": "fbfa8879",
   "metadata": {},
   "outputs": [],
   "source": [
    "x_train, x_test, y_train, y_test = train_test_split(X, yy, test_size=0.3, random_state = 100)"
   ]
  },
  {
   "cell_type": "markdown",
   "id": "8fc6e227",
   "metadata": {},
   "source": [
    "# TensorFlow"
   ]
  },
  {
   "cell_type": "code",
   "execution_count": null,
   "id": "7e7a944c",
   "metadata": {},
   "outputs": [],
   "source": [
    "model = keras.models.Sequential([\n",
    "    keras.layers.Dense(128, activation = 'relu'),\n",
    "    keras.layers.Dense(128, activation = 'relu'),\n",
    "    keras.layers.Dense(64, activation = 'relu'),\n",
    "    keras.layers.Dense(64, activation = 'relu'),\n",
    "    keras.layers.Dense(32, activation = 'relu'),\n",
    "    keras.layers.Dropout(0.2),\n",
    "    keras.layers.Dense(10, activation = 'softmax')\n",
    "])\n",
    "\n",
    "num_batch_size = 128\n",
    "learning_rate = 0.001\n",
    "opt = keras.optimizers.Adam(learning_rate = learning_rate)\n",
    "\n",
    "model.compile(optimizer = opt,\n",
    "             loss = 'categorical_crossentropy',\n",
    "             metrics = ['accuracy'])"
   ]
  },
  {
   "cell_type": "code",
   "execution_count": null,
   "id": "dfd62edc",
   "metadata": {},
   "outputs": [],
   "source": [
    "checkpoint_path = './plz/cp-{epoch:03d}.ckpt'\n",
    "checkpoint_dir = os.path.dirname(checkpoint_path)\n",
    "\n",
    "class callback(tf.keras.callbacks.Callback):\n",
    "    def on_epoch_end(self, eopch, logs={}):\n",
    "        if(logs.get('accuracy') > 0.95) :\n",
    "            print(\"\\n----reach 95% accuracy, stop training----\")\n",
    "            self.model.stop_training = True\n",
    "            \n",
    "callbacks = callback()"
   ]
  },
  {
   "cell_type": "code",
   "execution_count": null,
   "id": "40d803f2",
   "metadata": {
    "scrolled": true
   },
   "outputs": [],
   "source": [
    "model.fit(x_train,\n",
    "          y_train,\n",
    "          batch_size=num_batch_size,\n",
    "          epochs = 200,\n",
    "          callbacks = [callbacks])"
   ]
  },
  {
   "cell_type": "code",
   "execution_count": null,
   "id": "40e78ea3",
   "metadata": {
    "scrolled": true
   },
   "outputs": [],
   "source": [
    "print('\\n# Evaluate on test data')\n",
    "results = model.evaluate(x_test, y_test, batch_size=128)\n",
    "print('test loss, test acc:', results)"
   ]
  },
  {
   "cell_type": "code",
   "execution_count": null,
   "id": "6d2487dd",
   "metadata": {
    "scrolled": true
   },
   "outputs": [],
   "source": [
    "model.summary()"
   ]
  },
  {
   "cell_type": "code",
   "execution_count": null,
   "id": "b036c8a7",
   "metadata": {},
   "outputs": [],
   "source": [
    "from tinymlgen import port"
   ]
  },
  {
   "cell_type": "code",
   "execution_count": null,
   "id": "6835a96a",
   "metadata": {
    "scrolled": true
   },
   "outputs": [],
   "source": [
    "if __name__ == '__main__':\n",
    "    c_code = port(model, variable_name = 'sound_model', pretty_print = True, optimize = False)\n",
    "print(c_code)"
   ]
  },
  {
   "cell_type": "code",
   "execution_count": null,
   "id": "38592e01",
   "metadata": {},
   "outputs": [],
   "source": [
    "model.save(\"./final/real_final/model_final.h5\")"
   ]
  },
  {
   "cell_type": "markdown",
   "id": "1d7d28a6",
   "metadata": {},
   "source": [
    "# Visualization"
   ]
  },
  {
   "cell_type": "code",
   "execution_count": null,
   "id": "14c7d21a",
   "metadata": {},
   "outputs": [],
   "source": [
    "from sklearn.metrics import confusion_matrix\n",
    "from sklearn.utils.multiclass import unique_labels"
   ]
  },
  {
   "cell_type": "code",
   "execution_count": null,
   "id": "8802d2f1",
   "metadata": {},
   "outputs": [],
   "source": [
    "metadata = pd.read_csv('./metadata/UrbanSound8K.csv')"
   ]
  },
  {
   "cell_type": "code",
   "execution_count": null,
   "id": "409644f1",
   "metadata": {},
   "outputs": [],
   "source": [
    "# draw confusion matrix\n",
    "def plot_confusion_matrix(y_true, y_pred, classes,\n",
    "                          normalize=False,\n",
    "                          title=None,\n",
    "                          cmap=plt.cm.Blues,\n",
    "                          percentage = False):\n",
    "    \"\"\"\n",
    "    This function prints and plots the confusion matrix.\n",
    "    Normalization can be applied by setting `normalize=True`.\n",
    "    \"\"\"\n",
    "    if not title:\n",
    "        if normalize:\n",
    "            title = 'Normalized confusion matrix'\n",
    "        else:\n",
    "            title = 'Confusion matrix, without normalization'\n",
    "\n",
    "    # Compute confusion matrix\n",
    "    cm = confusion_matrix(y_true, y_pred)\n",
    "    # Only use the labels that appear in the data\n",
    "    classes = classes[unique_labels(y_true, y_pred)]\n",
    "    if normalize:\n",
    "        cm = cm.astype('float') / cm.sum(axis=1)[:, np.newaxis]\n",
    "        print(\"Normalized confusion matrix\")\n",
    "    else:\n",
    "        print('Confusion matrix, without normalization')\n",
    "\n",
    "    #print(cm)\n",
    "\n",
    "    fig, ax = plt.subplots(figsize = (8,8))\n",
    "    im = ax.imshow(cm, interpolation='nearest', cmap=cmap)\n",
    "    ax.figure.colorbar(im, ax=ax)\n",
    "    # We want to show all ticks...\n",
    "    ax.set(xticks=np.arange(cm.shape[1]),\n",
    "           yticks=np.arange(cm.shape[0]),\n",
    "           # ... and label them with the respective list entries\n",
    "           xticklabels=classes, yticklabels=classes,\n",
    "           title=title,\n",
    "           ylabel='True label',\n",
    "           xlabel='Predicted label')\n",
    "\n",
    "    # Rotate the tick labels and set their alignment.\n",
    "    plt.setp(ax.get_xticklabels(), rotation=45, ha=\"right\",\n",
    "             rotation_mode=\"anchor\")\n",
    "\n",
    "    # Loop over data dimensions and create text annotations.\n",
    "    fmt = '.2f' if normalize else 'd'\n",
    "    thresh = cm.max() / 2.\n",
    "    for i in range(cm.shape[0]):\n",
    "        for j in range(cm.shape[1]):\n",
    "            ax.text(j, i, format(cm[i, j], fmt),\n",
    "                    ha=\"center\", va=\"center\",\n",
    "                    color=\"white\" if cm[i, j] > thresh else \"black\")\n",
    "    fig.tight_layout()\n",
    "    return ax"
   ]
  },
  {
   "cell_type": "code",
   "execution_count": null,
   "id": "2d2be5a6",
   "metadata": {},
   "outputs": [],
   "source": [
    "model = keras.models.load_model('./final/real_final/model_final.h5')"
   ]
  },
  {
   "cell_type": "code",
   "execution_count": null,
   "id": "018889b4",
   "metadata": {},
   "outputs": [],
   "source": [
    "y_pred_train = model.predict(x_train)\n",
    "y_pred_test = model.predict(x_test)"
   ]
  },
  {
   "cell_type": "code",
   "execution_count": null,
   "id": "715e1b18",
   "metadata": {},
   "outputs": [],
   "source": [
    "def transform_1D(y):\n",
    "    tmp = []\n",
    "    for line in y:\n",
    "        maxi = max(line)\n",
    "        index = list(line).index(maxi)\n",
    "        tmp.append(index)\n",
    "    return tmp"
   ]
  },
  {
   "cell_type": "code",
   "execution_count": null,
   "id": "5ddeff74",
   "metadata": {},
   "outputs": [],
   "source": [
    "y_train = np.array(transform_1D(y_train), dtype=np.float32)\n",
    "y_test = np.array(transform_1D(y_test), dtype=np.float32)"
   ]
  },
  {
   "cell_type": "code",
   "execution_count": null,
   "id": "8a2965b8",
   "metadata": {},
   "outputs": [],
   "source": [
    "y_pred_train = np.array(transform_1D(y_pred_train), dtype=np.float32)\n",
    "y_pred_test = np.array(transform_1D(y_pred_test), dtype=np.float32)"
   ]
  },
  {
   "cell_type": "code",
   "execution_count": null,
   "id": "9d2ee993",
   "metadata": {
    "scrolled": false
   },
   "outputs": [],
   "source": [
    "class_names = metadata.groupby(['class', 'classID'], as_index = False).sum()['class']\n",
    "plot_confusion_matrix(y_train, y_pred_train, classes=class_names, cmap=plt.cm.Greens,\\\n",
    "                      normalize= True)\n",
    "plt.show()"
   ]
  },
  {
   "cell_type": "code",
   "execution_count": null,
   "id": "c79e81cb",
   "metadata": {},
   "outputs": [],
   "source": [
    "class_names = metadata.groupby(['class', 'classID'], as_index = False).sum()['class']\n",
    "plot_confusion_matrix(y_test, y_pred_test, classes=class_names, cmap=plt.cm.Greens,\\\n",
    "                      normalize= True)\n",
    "plt.show()"
   ]
  },
  {
   "cell_type": "markdown",
   "id": "2c16288b",
   "metadata": {},
   "source": [
    "# 데이터 확인"
   ]
  },
  {
   "cell_type": "code",
   "execution_count": null,
   "id": "cf47ec31",
   "metadata": {},
   "outputs": [],
   "source": [
    "audio, sample_rate = librosa.load('./audio/fold1/7061-6-0-0.wav', res_type='kaiser_best')"
   ]
  },
  {
   "cell_type": "code",
   "execution_count": null,
   "id": "fab20541",
   "metadata": {},
   "outputs": [],
   "source": [
    "audio = librosa.resample(audio, sample_rate, 256)"
   ]
  },
  {
   "cell_type": "code",
   "execution_count": null,
   "id": "1efb961b",
   "metadata": {},
   "outputs": [],
   "source": [
    "fig_size = (15, 10)\n",
    "plt.figure(figsize = fig_size)\n",
    "plt.plot(audio, alpha = 0.4)\n",
    "plt.xlabel(\"Frequency\")\n",
    "plt.ylabel(\"Magnitude\")\n",
    "plt.title(\"Power spectrum\")"
   ]
  },
  {
   "cell_type": "code",
   "execution_count": null,
   "id": "6c1cb196",
   "metadata": {},
   "outputs": [],
   "source": [
    "fig_size = (15, 10)\n",
    "plt.figure(figsize = fig_size)\n",
    "plt.plot(np.abs(np.fft.fft(audio)[:128]), alpha = 0.4)\n",
    "plt.xlabel(\"Frequency\")\n",
    "plt.ylabel(\"Magnitude\")\n",
    "plt.title(\"Power spectrum\")"
   ]
  },
  {
   "cell_type": "markdown",
   "id": "3a07bec5",
   "metadata": {},
   "source": [
    "# Random Forest"
   ]
  },
  {
   "cell_type": "code",
   "execution_count": null,
   "id": "968e6bf0",
   "metadata": {},
   "outputs": [],
   "source": [
    "from sklearn.ensemble import RandomForestClassifier"
   ]
  },
  {
   "cell_type": "code",
   "execution_count": null,
   "id": "a422601d",
   "metadata": {},
   "outputs": [],
   "source": [
    "model_rf = RandomForestClassifier(n_estimators=100, bootstrap=True,\\\n",
    "                                  max_depth=None,max_leaf_nodes=None,\\\n",
    "                                  max_features='auto')"
   ]
  },
  {
   "cell_type": "code",
   "execution_count": null,
   "id": "2189e869",
   "metadata": {},
   "outputs": [],
   "source": [
    "model_rf.fit(x_train, y_train)"
   ]
  },
  {
   "cell_type": "code",
   "execution_count": null,
   "id": "98eff1c4",
   "metadata": {},
   "outputs": [],
   "source": [
    "print(model_rf.score(x_train, y_train))\n",
    "print(model_rf.score(x_test, y_test))"
   ]
  },
  {
   "cell_type": "markdown",
   "id": "c2e33031",
   "metadata": {},
   "source": [
    "# SVM"
   ]
  },
  {
   "cell_type": "code",
   "execution_count": null,
   "id": "9601f07f",
   "metadata": {},
   "outputs": [],
   "source": [
    "import sklearn.svm as svm"
   ]
  },
  {
   "cell_type": "code",
   "execution_count": null,
   "id": "c933b81e",
   "metadata": {},
   "outputs": [],
   "source": [
    "model_svm = svm.SVC(kernel = 'rbf', C = 1000000)"
   ]
  },
  {
   "cell_type": "code",
   "execution_count": null,
   "id": "05508768",
   "metadata": {},
   "outputs": [],
   "source": [
    "data_svm = pd.read_pickle('./data/data_final.pkl')"
   ]
  },
  {
   "cell_type": "code",
   "execution_count": null,
   "id": "fa4455c9",
   "metadata": {},
   "outputs": [],
   "source": [
    "X = data_svm['feature']\n",
    "y = data_svm['class_label']"
   ]
  },
  {
   "cell_type": "code",
   "execution_count": null,
   "id": "7fc5dad5",
   "metadata": {},
   "outputs": [],
   "source": [
    "X = np.array(X.tolist(), dtype = np.float64)\n",
    "y = np.array(y.tolist(), dtype = np.float64)"
   ]
  },
  {
   "cell_type": "code",
   "execution_count": null,
   "id": "0a82045d",
   "metadata": {},
   "outputs": [],
   "source": [
    "x_train, x_test, y_train, y_test = train_test_split(X, y, test_size=0.3)"
   ]
  },
  {
   "cell_type": "code",
   "execution_count": null,
   "id": "d0c23aca",
   "metadata": {},
   "outputs": [],
   "source": [
    "model_svm.fit(x_train, y_train)"
   ]
  },
  {
   "cell_type": "code",
   "execution_count": null,
   "id": "ca61e195",
   "metadata": {},
   "outputs": [],
   "source": [
    "y_pred = model_svm.predict(x_test)\n",
    "train_acc = model_svm.score(x_train, y_train)\n",
    "test_acc = model_svm.score(x_test, y_test)\n",
    "print('Training Accuracy:', train_acc)\n",
    "print('Test Accuracy:', test_acc)"
   ]
  },
  {
   "cell_type": "code",
   "execution_count": null,
   "id": "c52f7199",
   "metadata": {},
   "outputs": [],
   "source": []
  }
 ],
 "metadata": {
  "kernelspec": {
   "display_name": "Python 3",
   "language": "python",
   "name": "python3"
  },
  "language_info": {
   "codemirror_mode": {
    "name": "ipython",
    "version": 3
   },
   "file_extension": ".py",
   "mimetype": "text/x-python",
   "name": "python",
   "nbconvert_exporter": "python",
   "pygments_lexer": "ipython3",
   "version": "3.6.13"
  }
 },
 "nbformat": 4,
 "nbformat_minor": 5
}
